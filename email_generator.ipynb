{
 "cells": [
  {
   "cell_type": "code",
   "execution_count": 18,
   "id": "c16ff50e",
   "metadata": {},
   "outputs": [],
   "source": [
    "from langchain_groq import ChatGroq\n",
    "\n",
    "llm = ChatGroq(\n",
    "    groq_api_key='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',\n",
    "    model=\"llama-3.3-70b-versatile\",\n",
    "    temperature=0\n",
    "    \n",
    ")"
   ]
  },
  {
   "cell_type": "code",
   "execution_count": 19,
   "id": "90d33612",
   "metadata": {},
   "outputs": [
    {
     "name": "stdout",
     "output_type": "stream",
     "text": [
      "Apply for Lead Software Engineer, Data & Analytics - Converse Technology (Open to ATL, Beaverton, BOS)\n",
      "\n",
      "Search JobsSkip navigationSearch JobsNIKE, INC. JOBSContract JobsJoin The Talent CommunityLife @ NikeOverviewBenefitsBrandsOverviewJordanConverseTeamsOverviewAdministrative SupportAdvanced InnovationAir Manufacturing InnovationAviationCommunicationsCustomer ServiceDesignDigitalFacilitiesFinance & AccountingGovernment & Public AffairsHuman ResourcesInsights & AnalyticsLegalManufacturing & EngineeringMarketingMerchandisingPlanningPrivacyProcurementProduct Creation, Development & ManagementRetail CorporateRetail StoresSalesSocial & Community ImpactSports MarketingStrategic PlanningSupply Chain, Distribution & LogisticsSustainabilityTechnologyLocationsOverviewNike WHQNike New York HQEHQ: Hilversum, The NetherlandsELC: Laakdal, BelgiumGreater China HQDiversity, Equity & InclusionOverviewMilitary InclusionDisability InclusionIndigenous InclusionInternshipsTechnologyLead Software Engineer, Data & Analytics - Converse Technology (Open to ATL, Beaverton, BOS)Boston, MassachusettsBecome part of the Converse TeamConverse is a place to explore potential, break barriers and push out the edges of what can be. The company looks for people who can grow, think, dream and create. Its culture thrives by embracing diversity and rewarding imagination. The brand seeks achievers, leaders and visionaries. At Converse, it’s about each person bringing skills and passion to a challenging and constantly evolving world to make things better as a team.We Need Someone Who Speaks ComputerComputers have their own language. Which most of us don’t speak.  But you do. And we need your fluency.  Let’s face it. The modern world is shackled to computers so we need experts like yourself to keep us running.  So come join our crew. You don’t have to call yourself The Computer Whisperer but we might.WHO YOU’LL WORK WITHReporting to the Director of Enterprise Data & Analytics, this role will partner closely with multiple business analytics teams across our organization to deliver upon Converse’s strategic priorities and enable data-driven decision-making. The successful candidate will lead data engineering squads to meet stakeholder needs, ensure seamless delivery, and foster a culture of innovation and excellence. They will join a global team that thrives on teamwork, camaraderie, and problem solving.WHO WE ARE LOOKING FORWe are open to candidates in Atlanta, Beaverton or Boston area.The ideal candidate is a seasoned data professional with a unique blend of technical expertise, leadership skills, and business acumen. As a seasoned team leader, they have a proven track record of guiding high-performing data engineering teams and fostering a culture of innovation and collaboration. They are a masterful navigator of complex and ambiguous challenges, taking inventive and resourceful approaches to craft innovative solutions that drive meaningful impact. Their ability to distil complex technical concepts into actionable project plans and communicate them effectively to stakeholders makes them a valuable asset to any organization.Key skills and qualifications:Bachelor’s degree or equivalent combination of education, experience or trainingMinimum 6 years relevant work experienceStrong foundation in data analytics; experience working with large data sets and defining complex data models that meet stakeholder needsProven experience leading engineering teams to achieve exceptional results and drive business outcomesExperience working with analytics tools such as Tableau, Alteryx, Sigma, etc. and writing SQL, R, and/or Python code.Familiarity with Agile principles and methodologies (Scrum, Kanban) with experience applying them to deliver high quality results. Experience working with application lifecycle management tools, Jira preferred.Open to work in Boston, MA, Atlanta, GA or Beaverton, OR.WHAT YOU’LL WORK ONAs a Lead Software Engineer on the Converse Enterprise Data & Analytics team, you will help lead the creation, improvement and adoption of Converse’s data products, setting the product vision and managing the data engineering roadmap to support the growing analytics discipline at Converse. You will work closely with cross-functional stakeholders, data engineers and architects, and product management to deliver scalable solutions that drive business value.Effectively define priorities with stakeholders, set clear and measurable objectives and deploy team resources appropriately to achieve business goals through adoption of data productsLead scope from idea through delivery, analysis, testing and supportDefine and communicate product vision and roadmap; ensure alignment to company strategiesWork with stakeholders to understand current and future needs, define features and epics, determine success criteria, validate solutions, and evaluate customer satisfactionBuild and maintain end user documentation; support data governance initiativesDrive collaborative reviews of design, code and test plans and dataset implementation by other data engineers in support of maintaining data engineering standardsKeep team accountable in adhering to change management and release processesMentor and develop other software engineers in adopting best practicesContinually improve our production support practice, through process improvements and taking proactive approaches to decrease incidents over timeWe are committed to fostering a diverse and inclusive environment for all employees and job applicants. We offer a number of accommodations to complete our interview process including screen readers, sign language interpreters, accessible and single location for in-person interviews, closed captioning, and other reasonable modifications as needed. If you discover, as you navigate our application process, that you need assistance or an accommodation due to a disability, please complete the Candidate Accommodation Request Form.Converse is more than a company; it’s a worldwide advocate for self-expression. This belief motivates our employees, permeates our working environment and inspires our products. No two of us look or think exactly alike. We are each one-of-a-kind. Individually and as a culture, we have the freedom to create and grow professionally. Generous benefits packages only sweeten the experience. From Boston to Shanghai, from Brand Design to Finance, Converse is a brand that celebrates the unique and creative people of the world. Together, we’re different.How We HireAt NIKE, Inc. we promise to provide a premium, inclusive, compelling and authentic candidate experience. Delivering on this promise means we allow you to be at your best — and to do that, you need to understand how the hiring process works. Transparency is key.\n",
      "\n",
      "* This overview explains our hiring process for corporate roles. Note there may be different hiring steps involved for non-corporate roles.Start nowBenefitsWhether it’s transportation or financial health, we continually invest in our employees to help them achieve greatness — inside and outside of work. All who work here should be able to realize their full potential.Employee Assistance ProgramEmployee Stock Purchase Plan (ESPP)HolidaysMedical PlanPaid Time Off (PTO)Product DiscountsSabbaticalsSummer HoursLearn moreFIND A STOREBECOME A MEMBERSIGN UP FOR EMAILSEND US FEEDBACKSTUDENT DISCOUNTSGET HELPGET HELPOrder StatusDeliveryReturnsPayment OptionsContact Us On Nike.com InquiriesContact Us On All Other InquiriesABOUT NIKEABOUT NIKENewsCareersInvestorsSustainabilityIndia© 2024 Nike, Inc. All Rights ReservedGuidesNike AdaptNike Air MaxNike FlyleatherNike PegasusNike Zoom FlyNike AirNike FlyEaseNike FreeNike ReactNike ZoomXNike Air Force 1Nike FlyknitNike JoyrideNike VaporflyTerms of SaleTerms of UseNike Privacy Policy\n"
     ]
    }
   ],
   "source": [
    "from langchain_community.document_loaders import WebBaseLoader\n",
    "\n",
    "loader = WebBaseLoader(\"https://jobs.nike.com/job/R-47637?from=job%20search%20funnel\")\n",
    "page_data = loader.load().pop().page_content\n",
    "print(page_data)"
   ]
  },
  {
   "cell_type": "code",
   "execution_count": 33,
   "id": "85c89a57",
   "metadata": {},
   "outputs": [
    {
     "data": {
      "text/plain": [
       "str"
      ]
     },
     "execution_count": 33,
     "metadata": {},
     "output_type": "execute_result"
    }
   ],
   "source": [
    "from langchain_core.prompts import PromptTemplate\n",
    "\n",
    "prompt_extract = PromptTemplate.from_template(\n",
    "        \"\"\"\n",
    "        ### SCRAPED TEXT FROM WEBSITE:\n",
    "        {page_data}\n",
    "        ### INSTRUCTION:\n",
    "        The scraped text is from the career's page of a website.\n",
    "        Your job is to extract the job postings and return them in JSON format containing the \n",
    "        following keys: `role`, `experience`, `skills` and `description`.\n",
    "        Only return the valid JSON.\n",
    "        ### VALID JSON (NO PREAMBLE):    \n",
    "        \"\"\"\n",
    ")\n",
    "\n",
    "chain_extract = prompt_extract | llm \n",
    "res = chain_extract.invoke(input={'page_data':page_data})\n",
    "type(res.content)"
   ]
  },
  {
   "cell_type": "code",
   "execution_count": 34,
   "id": "5415fd54",
   "metadata": {},
   "outputs": [
    {
     "data": {
      "text/plain": [
       "{'role': 'Lead Software Engineer, Data & Analytics - Converse Technology',\n",
       " 'experience': 'Minimum 6 years relevant work experience',\n",
       " 'skills': ['Strong foundation in data analytics',\n",
       "  'Experience working with large data sets and defining complex data models',\n",
       "  'Proven experience leading engineering teams',\n",
       "  'Experience working with analytics tools such as Tableau, Alteryx, Sigma, etc.',\n",
       "  'Writing SQL, R, and/or Python code',\n",
       "  'Familiarity with Agile principles and methodologies (Scrum, Kanban)'],\n",
       " 'description': 'Lead the creation, improvement and adoption of Converse’s data products, setting the product vision and managing the data engineering roadmap to support the growing analytics discipline at Converse.'}"
      ]
     },
     "execution_count": 34,
     "metadata": {},
     "output_type": "execute_result"
    }
   ],
   "source": [
    "from langchain_core.output_parsers import JsonOutputParser\n",
    "\n",
    "json_parser = JsonOutputParser()\n",
    "json_res = json_parser.parse(res.content)\n",
    "json_res"
   ]
  },
  {
   "cell_type": "code",
   "execution_count": 22,
   "id": "39961ed6",
   "metadata": {},
   "outputs": [
    {
     "data": {
      "text/plain": [
       "dict"
      ]
     },
     "execution_count": 22,
     "metadata": {},
     "output_type": "execute_result"
    }
   ],
   "source": [
    "type(json_res)"
   ]
  },
  {
   "cell_type": "code",
   "execution_count": 23,
   "id": "1e8a0f74",
   "metadata": {},
   "outputs": [
    {
     "data": {
      "text/html": [
       "<div>\n",
       "<style scoped>\n",
       "    .dataframe tbody tr th:only-of-type {\n",
       "        vertical-align: middle;\n",
       "    }\n",
       "\n",
       "    .dataframe tbody tr th {\n",
       "        vertical-align: top;\n",
       "    }\n",
       "\n",
       "    .dataframe thead th {\n",
       "        text-align: right;\n",
       "    }\n",
       "</style>\n",
       "<table border=\"1\" class=\"dataframe\">\n",
       "  <thead>\n",
       "    <tr style=\"text-align: right;\">\n",
       "      <th></th>\n",
       "      <th>Techstack</th>\n",
       "      <th>Links</th>\n",
       "    </tr>\n",
       "  </thead>\n",
       "  <tbody>\n",
       "    <tr>\n",
       "      <th>0</th>\n",
       "      <td>React, Node.js, MongoDB</td>\n",
       "      <td>https://example.com/react-portfolio</td>\n",
       "    </tr>\n",
       "    <tr>\n",
       "      <th>1</th>\n",
       "      <td>Angular,.NET, SQL Server</td>\n",
       "      <td>https://example.com/angular-portfolio</td>\n",
       "    </tr>\n",
       "    <tr>\n",
       "      <th>2</th>\n",
       "      <td>Vue.js, Ruby on Rails, PostgreSQL</td>\n",
       "      <td>https://example.com/vue-portfolio</td>\n",
       "    </tr>\n",
       "    <tr>\n",
       "      <th>3</th>\n",
       "      <td>Python, Django, MySQL</td>\n",
       "      <td>https://example.com/python-portfolio</td>\n",
       "    </tr>\n",
       "    <tr>\n",
       "      <th>4</th>\n",
       "      <td>Java, Spring Boot, Oracle</td>\n",
       "      <td>https://example.com/java-portfolio</td>\n",
       "    </tr>\n",
       "    <tr>\n",
       "      <th>5</th>\n",
       "      <td>Flutter, Firebase, GraphQL</td>\n",
       "      <td>https://example.com/flutter-portfolio</td>\n",
       "    </tr>\n",
       "    <tr>\n",
       "      <th>6</th>\n",
       "      <td>WordPress, PHP, MySQL</td>\n",
       "      <td>https://example.com/wordpress-portfolio</td>\n",
       "    </tr>\n",
       "    <tr>\n",
       "      <th>7</th>\n",
       "      <td>Magento, PHP, MySQL</td>\n",
       "      <td>https://example.com/magento-portfolio</td>\n",
       "    </tr>\n",
       "    <tr>\n",
       "      <th>8</th>\n",
       "      <td>React Native, Node.js, MongoDB</td>\n",
       "      <td>https://example.com/react-native-portfolio</td>\n",
       "    </tr>\n",
       "    <tr>\n",
       "      <th>9</th>\n",
       "      <td>iOS, Swift, Core Data</td>\n",
       "      <td>https://example.com/ios-portfolio</td>\n",
       "    </tr>\n",
       "    <tr>\n",
       "      <th>10</th>\n",
       "      <td>Android, Java, Room Persistence</td>\n",
       "      <td>https://example.com/android-portfolio</td>\n",
       "    </tr>\n",
       "    <tr>\n",
       "      <th>11</th>\n",
       "      <td>Kotlin, Android, Firebase</td>\n",
       "      <td>https://example.com/kotlin-android-portfolio</td>\n",
       "    </tr>\n",
       "    <tr>\n",
       "      <th>12</th>\n",
       "      <td>Android TV, Kotlin, Android NDK</td>\n",
       "      <td>https://example.com/android-tv-portfolio</td>\n",
       "    </tr>\n",
       "    <tr>\n",
       "      <th>13</th>\n",
       "      <td>iOS, Swift, ARKit</td>\n",
       "      <td>https://example.com/ios-ar-portfolio</td>\n",
       "    </tr>\n",
       "    <tr>\n",
       "      <th>14</th>\n",
       "      <td>Cross-platform, Xamarin, Azure</td>\n",
       "      <td>https://example.com/xamarin-portfolio</td>\n",
       "    </tr>\n",
       "    <tr>\n",
       "      <th>15</th>\n",
       "      <td>Backend, Kotlin, Spring Boot</td>\n",
       "      <td>https://example.com/kotlin-backend-portfolio</td>\n",
       "    </tr>\n",
       "    <tr>\n",
       "      <th>16</th>\n",
       "      <td>Frontend, TypeScript, Angular</td>\n",
       "      <td>https://example.com/typescript-frontend-portfolio</td>\n",
       "    </tr>\n",
       "    <tr>\n",
       "      <th>17</th>\n",
       "      <td>Full-stack, JavaScript, Express.js</td>\n",
       "      <td>https://example.com/full-stack-js-portfolio</td>\n",
       "    </tr>\n",
       "    <tr>\n",
       "      <th>18</th>\n",
       "      <td>Machine Learning, Python, TensorFlow</td>\n",
       "      <td>https://example.com/ml-python-portfolio</td>\n",
       "    </tr>\n",
       "    <tr>\n",
       "      <th>19</th>\n",
       "      <td>DevOps, Jenkins, Docker</td>\n",
       "      <td>https://example.com/devops-portfolio</td>\n",
       "    </tr>\n",
       "  </tbody>\n",
       "</table>\n",
       "</div>"
      ],
      "text/plain": [
       "                               Techstack  \\\n",
       "0                React, Node.js, MongoDB   \n",
       "1               Angular,.NET, SQL Server   \n",
       "2      Vue.js, Ruby on Rails, PostgreSQL   \n",
       "3                  Python, Django, MySQL   \n",
       "4              Java, Spring Boot, Oracle   \n",
       "5             Flutter, Firebase, GraphQL   \n",
       "6                  WordPress, PHP, MySQL   \n",
       "7                    Magento, PHP, MySQL   \n",
       "8         React Native, Node.js, MongoDB   \n",
       "9                  iOS, Swift, Core Data   \n",
       "10       Android, Java, Room Persistence   \n",
       "11             Kotlin, Android, Firebase   \n",
       "12       Android TV, Kotlin, Android NDK   \n",
       "13                     iOS, Swift, ARKit   \n",
       "14        Cross-platform, Xamarin, Azure   \n",
       "15          Backend, Kotlin, Spring Boot   \n",
       "16         Frontend, TypeScript, Angular   \n",
       "17    Full-stack, JavaScript, Express.js   \n",
       "18  Machine Learning, Python, TensorFlow   \n",
       "19               DevOps, Jenkins, Docker   \n",
       "\n",
       "                                                Links  \n",
       "0                 https://example.com/react-portfolio  \n",
       "1               https://example.com/angular-portfolio  \n",
       "2                   https://example.com/vue-portfolio  \n",
       "3                https://example.com/python-portfolio  \n",
       "4                  https://example.com/java-portfolio  \n",
       "5               https://example.com/flutter-portfolio  \n",
       "6             https://example.com/wordpress-portfolio  \n",
       "7               https://example.com/magento-portfolio  \n",
       "8          https://example.com/react-native-portfolio  \n",
       "9                   https://example.com/ios-portfolio  \n",
       "10              https://example.com/android-portfolio  \n",
       "11       https://example.com/kotlin-android-portfolio  \n",
       "12           https://example.com/android-tv-portfolio  \n",
       "13               https://example.com/ios-ar-portfolio  \n",
       "14              https://example.com/xamarin-portfolio  \n",
       "15       https://example.com/kotlin-backend-portfolio  \n",
       "16  https://example.com/typescript-frontend-portfolio  \n",
       "17        https://example.com/full-stack-js-portfolio  \n",
       "18            https://example.com/ml-python-portfolio  \n",
       "19               https://example.com/devops-portfolio  "
      ]
     },
     "execution_count": 23,
     "metadata": {},
     "output_type": "execute_result"
    }
   ],
   "source": [
    "import pandas as pd\n",
    "\n",
    "df = pd.read_csv(r\"C:\\Users\\vatsa\\Desktop\\Projects\\Cold Email generator\\app\\resources\\portfolio.csv\")\n",
    "df"
   ]
  },
  {
   "cell_type": "code",
   "execution_count": 24,
   "id": "f7e888d4",
   "metadata": {},
   "outputs": [],
   "source": [
    "import uuid\n",
    "import chromadb\n",
    "\n",
    "client = chromadb.PersistentClient('vectorstore')\n",
    "collection = client.get_or_create_collection(name=\"portfolio\")\n",
    "\n",
    "if not collection.count():\n",
    "    for _, row in df.iterrows():\n",
    "        collection.add(documents=row[\"Techstack\"],\n",
    "                       metadatas={\"links\": row[\"Links\"]},\n",
    "                       ids=[str(uuid.uuid4())])"
   ]
  },
  {
   "cell_type": "code",
   "execution_count": 26,
   "id": "87d6aec9",
   "metadata": {},
   "outputs": [],
   "source": [
    "job = json_res"
   ]
  },
  {
   "cell_type": "code",
   "execution_count": 27,
   "id": "39ad2fa2",
   "metadata": {},
   "outputs": [
    {
     "data": {
      "text/plain": [
       "[[{'links': 'https://example.com/ios-portfolio'},\n",
       "  {'links': 'https://example.com/ml-python-portfolio'}],\n",
       " [{'links': 'https://example.com/ml-python-portfolio'},\n",
       "  {'links': 'https://example.com/python-portfolio'}],\n",
       " [{'links': 'https://example.com/devops-portfolio'},\n",
       "  {'links': 'https://example.com/ml-python-portfolio'}],\n",
       " [{'links': 'https://example.com/flutter-portfolio'},\n",
       "  {'links': 'https://example.com/angular-portfolio'}],\n",
       " [{'links': 'https://example.com/python-portfolio'},\n",
       "  {'links': 'https://example.com/magento-portfolio'}],\n",
       " [{'links': 'https://example.com/kotlin-backend-portfolio'},\n",
       "  {'links': 'https://example.com/kotlin-android-portfolio'}]]"
      ]
     },
     "execution_count": 27,
     "metadata": {},
     "output_type": "execute_result"
    }
   ],
   "source": [
    "links = collection.query(query_texts=job['skills'], n_results=2).get('metadatas', [])\n",
    "links"
   ]
  },
  {
   "cell_type": "code",
   "execution_count": 35,
   "id": "8bd36844",
   "metadata": {},
   "outputs": [
    {
     "data": {
      "text/plain": [
       "{'role': 'Lead Software Engineer, Data & Analytics - Converse Technology',\n",
       " 'experience': 'Minimum 6 years relevant work experience',\n",
       " 'skills': ['Strong foundation in data analytics',\n",
       "  'Experience working with large data sets and defining complex data models',\n",
       "  'Proven experience leading engineering teams',\n",
       "  'Experience working with analytics tools such as Tableau, Alteryx, Sigma, etc.',\n",
       "  'Writing SQL, R, and/or Python code',\n",
       "  'Familiarity with Agile principles and methodologies (Scrum, Kanban)'],\n",
       " 'description': 'Lead the creation, improvement and adoption of Converse’s data products, setting the product vision and managing the data engineering roadmap to support the growing analytics discipline at Converse.'}"
      ]
     },
     "execution_count": 35,
     "metadata": {},
     "output_type": "execute_result"
    }
   ],
   "source": [
    "job"
   ]
  },
  {
   "cell_type": "code",
   "execution_count": 29,
   "id": "1ccfd720",
   "metadata": {
    "scrolled": false
   },
   "outputs": [
    {
     "data": {
      "text/plain": [
       "['Strong foundation in data analytics',\n",
       " 'Experience working with large data sets and defining complex data models',\n",
       " 'Proven experience leading engineering teams',\n",
       " 'Experience working with analytics tools such as Tableau, Alteryx, Sigma, etc.',\n",
       " 'Writing SQL, R, and/or Python code',\n",
       " 'Familiarity with Agile principles and methodologies (Scrum, Kanban)']"
      ]
     },
     "execution_count": 29,
     "metadata": {},
     "output_type": "execute_result"
    }
   ],
   "source": [
    "job['skills']"
   ]
  },
  {
   "cell_type": "code",
   "execution_count": 36,
   "id": "64a97dd2",
   "metadata": {},
   "outputs": [
    {
     "name": "stdout",
     "output_type": "stream",
     "text": [
      "Subject: Expert Data Analytics Solutions for Converse Technology\n",
      "\n",
      "Dear Hiring Manager,\n",
      "\n",
      "I came across the job description for a Lead Software Engineer, Data & Analytics at Converse Technology, and I'm excited to introduce PixelMind, a leading AI & Software Consulting company that can help you achieve your data analytics goals. With our expertise in developing tailored solutions, we can empower your team to drive business growth through data-driven decision-making.\n",
      "\n",
      "At PixelMind, we have a strong foundation in data analytics, and our team has experience working with large data sets, defining complex data models, and leading engineering teams. We're well-versed in analytics tools such as Tableau, Alteryx, and Sigma, and our developers are proficient in writing SQL, R, and Python code. We follow Agile principles and methodologies, including Scrum and Kanban, to ensure seamless project execution.\n",
      "\n",
      "Our portfolio showcases our capabilities in developing innovative solutions using various technologies. Some relevant examples include:\n",
      "\n",
      "* Our machine learning and Python expertise, demonstrated in our [ML-Python portfolio](https://example.com/ml-python-portfolio)\n",
      "* Our data engineering and DevOps capabilities, highlighted in our [DevOps portfolio](https://example.com/devops-portfolio)\n",
      "* Our proficiency in Python development, showcased in our [Python portfolio](https://example.com/python-portfolio)\n",
      "\n",
      "We believe that our expertise in data analytics, combined with our experience in leading engineering teams and developing scalable solutions, makes us an ideal partner for Converse Technology. We'd be delighted to discuss how PixelMind can support your growing analytics discipline and help you achieve your business objectives.\n",
      "\n",
      "Please feel free to contact me to schedule a call and explore how we can collaborate to drive success for Converse Technology.\n",
      "\n",
      "Best regards,\n",
      "\n",
      "Rahul\n",
      "Business Development Executive\n",
      "PixelMind\n"
     ]
    }
   ],
   "source": [
    "prompt_email = PromptTemplate.from_template(\n",
    "        \"\"\"\n",
    "        ### JOB DESCRIPTION:\n",
    "        {job_description}\n",
    "        \n",
    "        ### INSTRUCTION:\n",
    "        You are Rahul, a business development executive at PixelMind. PixelMind is an AI & Software Consulting company dedicated to facilitating\n",
    "        the seamless integration of business processes through automated tools. \n",
    "        Over our experience, we have empowered numerous enterprises with tailored solutions, fostering scalability, \n",
    "        process optimization, cost reduction, and heightened overall efficiency. \n",
    "        Your job is to write a cold email to the client regarding the job mentioned above describing the capability of PixelMind \n",
    "        in fulfilling their needs.\n",
    "        Also add the most relevant ones from the following links to showcase PixelMind's portfolio: {link_list}\n",
    "        Remember you are Rahul, BDE at PixelMind. \n",
    "        Do not provide a preamble.\n",
    "        ### EMAIL (NO PREAMBLE):\n",
    "        \n",
    "        \"\"\"\n",
    "        )\n",
    "\n",
    "chain_email = prompt_email | llm\n",
    "res = chain_email.invoke({\"job_description\": str(job), \"link_list\": links})\n",
    "print(res.content)"
   ]
  }
 ],
 "metadata": {
  "kernelspec": {
   "display_name": "Python 3",
   "language": "python",
   "name": "python3"
  },
  "language_info": {
   "codemirror_mode": {
    "name": "ipython",
    "version": 3
   },
   "file_extension": ".py",
   "mimetype": "text/x-python",
   "name": "python",
   "nbconvert_exporter": "python",
   "pygments_lexer": "ipython3",
   "version": "3.12.5"
  }
 },
 "nbformat": 4,
 "nbformat_minor": 5
}
